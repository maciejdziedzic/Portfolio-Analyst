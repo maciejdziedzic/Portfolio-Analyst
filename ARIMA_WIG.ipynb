{
 "cells": [
  {
   "cell_type": "code",
   "execution_count": 715,
   "metadata": {},
   "outputs": [
    {
     "data": {
      "text/plain": [
       "Data          datetime64[ns]\n",
       "Otwarcie             float64\n",
       "Najwyzszy            float64\n",
       "Najnizszy            float64\n",
       "Zamkniecie           float64\n",
       "Wolumen              float64\n",
       "dtype: object"
      ]
     },
     "execution_count": 715,
     "metadata": {},
     "output_type": "execute_result"
    }
   ],
      "source": [
   "Jakies pierdoly"
   ],
   "source": [
    "#Importing libraries and data.\n",
    "import lightgbm as lgb\n",
    "import numpy as np\n",
    "import pandas as pd\n",
    "\n",
    "from matplotlib import pyplot as plt\n",
    "from pmdarima import auto_arima\n",
    "from sklearn.metrics import mean_absolute_error, mean_squared_error\n",
    "\n",
    "df__ = pd.read_csv('C:/Users/Admin/Desktop/dane/wig.csv', parse_dates=[\"Data\"])\n",
    "\n",
    "#Changing numerical index to Data\n",
    "df__.set_index(\"Data\", drop=False, inplace=True)\n",
    "#Viewing types of columns, making sure that Date has a 'datetime' format.\n",
    "df__.dtypes"
   ]
  },
  {
   "cell_type": "code",
   "execution_count": 716,
   "metadata": {},
   "outputs": [
    {
     "data": {
      "text/html": [
       "<div>\n",
       "<style scoped>\n",
       "    .dataframe tbody tr th:only-of-type {\n",
       "        vertical-align: middle;\n",
       "    }\n",
       "\n",
       "    .dataframe tbody tr th {\n",
       "        vertical-align: top;\n",
       "    }\n",
       "\n",
       "    .dataframe thead th {\n",
       "        text-align: right;\n",
       "    }\n",
       "</style>\n",
       "<table border=\"1\" class=\"dataframe\">\n",
       "  <thead>\n",
       "    <tr style=\"text-align: right;\">\n",
       "      <th></th>\n",
       "      <th>Open</th>\n",
       "      <th>High</th>\n",
       "      <th>Low</th>\n",
       "      <th>Close</th>\n",
       "      <th>Volume</th>\n",
       "    </tr>\n",
       "  </thead>\n",
       "  <tbody>\n",
       "    <tr>\n",
       "      <td>count</td>\n",
       "      <td>4768.000000</td>\n",
       "      <td>4768.000000</td>\n",
       "      <td>4768.000000</td>\n",
       "      <td>4768.000000</td>\n",
       "      <td>4.765000e+03</td>\n",
       "    </tr>\n",
       "    <tr>\n",
       "      <td>mean</td>\n",
       "      <td>41166.127294</td>\n",
       "      <td>41386.653712</td>\n",
       "      <td>40893.372244</td>\n",
       "      <td>41154.325180</td>\n",
       "      <td>5.472219e+07</td>\n",
       "    </tr>\n",
       "    <tr>\n",
       "      <td>std</td>\n",
       "      <td>15332.460379</td>\n",
       "      <td>15378.647042</td>\n",
       "      <td>15254.761738</td>\n",
       "      <td>15314.186033</td>\n",
       "      <td>4.777383e+07</td>\n",
       "    </tr>\n",
       "    <tr>\n",
       "      <td>min</td>\n",
       "      <td>11539.900000</td>\n",
       "      <td>11650.200000</td>\n",
       "      <td>11464.800000</td>\n",
       "      <td>11564.600000</td>\n",
       "      <td>1.727457e+06</td>\n",
       "    </tr>\n",
       "    <tr>\n",
       "      <td>25%</td>\n",
       "      <td>27553.600000</td>\n",
       "      <td>27678.200000</td>\n",
       "      <td>27278.900000</td>\n",
       "      <td>27440.100000</td>\n",
       "      <td>1.754025e+07</td>\n",
       "    </tr>\n",
       "    <tr>\n",
       "      <td>50%</td>\n",
       "      <td>44484.120000</td>\n",
       "      <td>44733.385000</td>\n",
       "      <td>44147.535000</td>\n",
       "      <td>44529.495000</td>\n",
       "      <td>4.342025e+07</td>\n",
       "    </tr>\n",
       "    <tr>\n",
       "      <td>75%</td>\n",
       "      <td>52909.107500</td>\n",
       "      <td>53118.110000</td>\n",
       "      <td>52663.325000</td>\n",
       "      <td>52886.290000</td>\n",
       "      <td>7.652914e+07</td>\n",
       "    </tr>\n",
       "    <tr>\n",
       "      <td>max</td>\n",
       "      <td>67607.050000</td>\n",
       "      <td>67933.050000</td>\n",
       "      <td>67144.100000</td>\n",
       "      <td>67568.500000</td>\n",
       "      <td>6.491139e+08</td>\n",
       "    </tr>\n",
       "  </tbody>\n",
       "</table>\n",
       "</div>"
      ],
      "text/plain": [
       "               Open          High           Low         Close        Volume\n",
       "count   4768.000000   4768.000000   4768.000000   4768.000000  4.765000e+03\n",
       "mean   41166.127294  41386.653712  40893.372244  41154.325180  5.472219e+07\n",
       "std    15332.460379  15378.647042  15254.761738  15314.186033  4.777383e+07\n",
       "min    11539.900000  11650.200000  11464.800000  11564.600000  1.727457e+06\n",
       "25%    27553.600000  27678.200000  27278.900000  27440.100000  1.754025e+07\n",
       "50%    44484.120000  44733.385000  44147.535000  44529.495000  4.342025e+07\n",
       "75%    52909.107500  53118.110000  52663.325000  52886.290000  7.652914e+07\n",
       "max    67607.050000  67933.050000  67144.100000  67568.500000  6.491139e+08"
      ]
     },
     "execution_count": 716,
     "metadata": {},
     "output_type": "execute_result"
    }
   ],
   "source": [
    "#Changing name of the columns and checking type of data\n",
    "data = df__.rename(columns=dict(Data='Date', Otwarcie='Open', Najwyzszy='High', Najnizszy='Low', Zamkniecie='Close', Wolumen='Volume'))\n",
    "data.dtypes\n",
    "data.describe()"
   ]
  },
  {
   "cell_type": "code",
   "execution_count": 717,
   "metadata": {},
   "outputs": [
    {
     "data": {
      "text/plain": [
       "Index(['Date', 'Open', 'High', 'Low', 'Close', 'Volume'], dtype='object')"
      ]
     },
     "execution_count": 717,
     "metadata": {},
     "output_type": "execute_result"
    }
   ],
   "source": [
    "data.columns"
   ]
  },
  {
   "cell_type": "code",
   "execution_count": 718,
   "metadata": {},
   "outputs": [],
   "source": [
    "# Creating function, which counts an average price of a day and applying it to an existent dataset.\n",
    "\n",
    "def VWAP(data):\n",
    "    v = data.Volume.values\n",
    "    h = data.High.values\n",
    "    l = data.Low.values\n",
    "    return data.assign(VWAP=(v*(h+l)/2)/v)\n",
    "data = data.groupby(data.index.date, group_keys=False).apply(VWAP)"
   ]
  },
  {
   "cell_type": "code",
   "execution_count": 719,
   "metadata": {},
   "outputs": [
    {
     "data": {
      "text/html": [
       "<div>\n",
       "<style scoped>\n",
       "    .dataframe tbody tr th:only-of-type {\n",
       "        vertical-align: middle;\n",
       "    }\n",
       "\n",
       "    .dataframe tbody tr th {\n",
       "        vertical-align: top;\n",
       "    }\n",
       "\n",
       "    .dataframe thead th {\n",
       "        text-align: right;\n",
       "    }\n",
       "</style>\n",
       "<table border=\"1\" class=\"dataframe\">\n",
       "  <thead>\n",
       "    <tr style=\"text-align: right;\">\n",
       "      <th></th>\n",
       "      <th>Date</th>\n",
       "      <th>Open</th>\n",
       "      <th>High</th>\n",
       "      <th>Low</th>\n",
       "      <th>Close</th>\n",
       "      <th>Volume</th>\n",
       "      <th>VWAP</th>\n",
       "      <th>month</th>\n",
       "      <th>week</th>\n",
       "      <th>day</th>\n",
       "      <th>day_of_week</th>\n",
       "    </tr>\n",
       "    <tr>\n",
       "      <th>Data</th>\n",
       "      <th></th>\n",
       "      <th></th>\n",
       "      <th></th>\n",
       "      <th></th>\n",
       "      <th></th>\n",
       "      <th></th>\n",
       "      <th></th>\n",
       "      <th></th>\n",
       "      <th></th>\n",
       "      <th></th>\n",
       "      <th></th>\n",
       "    </tr>\n",
       "  </thead>\n",
       "  <tbody>\n",
       "    <tr>\n",
       "      <td>2020-01-21</td>\n",
       "      <td>2001-01-02</td>\n",
       "      <td>17567.9</td>\n",
       "      <td>17710.2</td>\n",
       "      <td>17486.5</td>\n",
       "      <td>17672.8</td>\n",
       "      <td>4935736.0</td>\n",
       "      <td>17598.35</td>\n",
       "      <td>1</td>\n",
       "      <td>1</td>\n",
       "      <td>2</td>\n",
       "      <td>1</td>\n",
       "    </tr>\n",
       "    <tr>\n",
       "      <td>2020-01-21</td>\n",
       "      <td>2001-01-03</td>\n",
       "      <td>17520.7</td>\n",
       "      <td>17676.4</td>\n",
       "      <td>17319.7</td>\n",
       "      <td>17506.1</td>\n",
       "      <td>8818742.0</td>\n",
       "      <td>17498.05</td>\n",
       "      <td>1</td>\n",
       "      <td>1</td>\n",
       "      <td>3</td>\n",
       "      <td>2</td>\n",
       "    </tr>\n",
       "    <tr>\n",
       "      <td>2020-01-21</td>\n",
       "      <td>2001-01-04</td>\n",
       "      <td>17673.0</td>\n",
       "      <td>17959.2</td>\n",
       "      <td>17673.0</td>\n",
       "      <td>17875.9</td>\n",
       "      <td>8597278.0</td>\n",
       "      <td>17816.10</td>\n",
       "      <td>1</td>\n",
       "      <td>1</td>\n",
       "      <td>4</td>\n",
       "      <td>3</td>\n",
       "    </tr>\n",
       "    <tr>\n",
       "      <td>2020-01-21</td>\n",
       "      <td>2001-01-05</td>\n",
       "      <td>17862.3</td>\n",
       "      <td>17871.4</td>\n",
       "      <td>17508.5</td>\n",
       "      <td>17509.3</td>\n",
       "      <td>8211943.0</td>\n",
       "      <td>17689.95</td>\n",
       "      <td>1</td>\n",
       "      <td>1</td>\n",
       "      <td>5</td>\n",
       "      <td>4</td>\n",
       "    </tr>\n",
       "    <tr>\n",
       "      <td>2020-01-21</td>\n",
       "      <td>2001-01-08</td>\n",
       "      <td>17276.7</td>\n",
       "      <td>17276.7</td>\n",
       "      <td>17067.8</td>\n",
       "      <td>17119.3</td>\n",
       "      <td>7374110.0</td>\n",
       "      <td>17172.25</td>\n",
       "      <td>1</td>\n",
       "      <td>2</td>\n",
       "      <td>8</td>\n",
       "      <td>0</td>\n",
       "    </tr>\n",
       "  </tbody>\n",
       "</table>\n",
       "</div>"
      ],
      "text/plain": [
       "                 Date     Open     High      Low    Close     Volume  \\\n",
       "Data                                                                   \n",
       "2020-01-21 2001-01-02  17567.9  17710.2  17486.5  17672.8  4935736.0   \n",
       "2020-01-21 2001-01-03  17520.7  17676.4  17319.7  17506.1  8818742.0   \n",
       "2020-01-21 2001-01-04  17673.0  17959.2  17673.0  17875.9  8597278.0   \n",
       "2020-01-21 2001-01-05  17862.3  17871.4  17508.5  17509.3  8211943.0   \n",
       "2020-01-21 2001-01-08  17276.7  17276.7  17067.8  17119.3  7374110.0   \n",
       "\n",
       "                VWAP  month  week  day  day_of_week  \n",
       "Data                                                 \n",
       "2020-01-21  17598.35      1     1    2            1  \n",
       "2020-01-21  17498.05      1     1    3            2  \n",
       "2020-01-21  17816.10      1     1    4            3  \n",
       "2020-01-21  17689.95      1     1    5            4  \n",
       "2020-01-21  17172.25      1     2    8            0  "
      ]
     },
     "execution_count": 719,
     "metadata": {},
     "output_type": "execute_result"
    }
   ],
   "source": [
    "#Providing the model information about the time component in the DataFrame.\n",
    "data.Date = pd.to_datetime(data.Date, format=\"%Y-%m-%d\")\n",
    "data[\"month\"] = data.Date.dt.month\n",
    "data[\"week\"] = data.Date.dt.week\n",
    "data[\"day\"] = data.Date.dt.day\n",
    "data[\"day_of_week\"] = data.Date.dt.dayofweek\n",
    "data.head()"
   ]
  },
  {
   "cell_type": "code",
   "execution_count": 720,
   "metadata": {},
   "outputs": [
    {
     "data": {
      "text/html": [
       "<div>\n",
       "<style scoped>\n",
       "    .dataframe tbody tr th:only-of-type {\n",
       "        vertical-align: middle;\n",
       "    }\n",
       "\n",
       "    .dataframe tbody tr th {\n",
       "        vertical-align: top;\n",
       "    }\n",
       "\n",
       "    .dataframe thead th {\n",
       "        text-align: right;\n",
       "    }\n",
       "</style>\n",
       "<table border=\"1\" class=\"dataframe\">\n",
       "  <thead>\n",
       "    <tr style=\"text-align: right;\">\n",
       "      <th></th>\n",
       "      <th>Date</th>\n",
       "      <th>Open</th>\n",
       "      <th>High</th>\n",
       "      <th>Low</th>\n",
       "      <th>Close</th>\n",
       "      <th>Volume</th>\n",
       "      <th>VWAP</th>\n",
       "      <th>month</th>\n",
       "      <th>week</th>\n",
       "      <th>day</th>\n",
       "      <th>day_of_week</th>\n",
       "    </tr>\n",
       "  </thead>\n",
       "  <tbody>\n",
       "    <tr>\n",
       "      <td>0</td>\n",
       "      <td>2001-01-02</td>\n",
       "      <td>17567.90</td>\n",
       "      <td>17710.20</td>\n",
       "      <td>17486.50</td>\n",
       "      <td>17672.80</td>\n",
       "      <td>4935736.0</td>\n",
       "      <td>17598.350</td>\n",
       "      <td>1</td>\n",
       "      <td>1</td>\n",
       "      <td>2</td>\n",
       "      <td>1</td>\n",
       "    </tr>\n",
       "    <tr>\n",
       "      <td>1</td>\n",
       "      <td>2001-01-03</td>\n",
       "      <td>17520.70</td>\n",
       "      <td>17676.40</td>\n",
       "      <td>17319.70</td>\n",
       "      <td>17506.10</td>\n",
       "      <td>8818742.0</td>\n",
       "      <td>17498.050</td>\n",
       "      <td>1</td>\n",
       "      <td>1</td>\n",
       "      <td>3</td>\n",
       "      <td>2</td>\n",
       "    </tr>\n",
       "    <tr>\n",
       "      <td>2</td>\n",
       "      <td>2001-01-04</td>\n",
       "      <td>17673.00</td>\n",
       "      <td>17959.20</td>\n",
       "      <td>17673.00</td>\n",
       "      <td>17875.90</td>\n",
       "      <td>8597278.0</td>\n",
       "      <td>17816.100</td>\n",
       "      <td>1</td>\n",
       "      <td>1</td>\n",
       "      <td>4</td>\n",
       "      <td>3</td>\n",
       "    </tr>\n",
       "    <tr>\n",
       "      <td>3</td>\n",
       "      <td>2001-01-05</td>\n",
       "      <td>17862.30</td>\n",
       "      <td>17871.40</td>\n",
       "      <td>17508.50</td>\n",
       "      <td>17509.30</td>\n",
       "      <td>8211943.0</td>\n",
       "      <td>17689.950</td>\n",
       "      <td>1</td>\n",
       "      <td>1</td>\n",
       "      <td>5</td>\n",
       "      <td>4</td>\n",
       "    </tr>\n",
       "    <tr>\n",
       "      <td>4</td>\n",
       "      <td>2001-01-08</td>\n",
       "      <td>17276.70</td>\n",
       "      <td>17276.70</td>\n",
       "      <td>17067.80</td>\n",
       "      <td>17119.30</td>\n",
       "      <td>7374110.0</td>\n",
       "      <td>17172.250</td>\n",
       "      <td>1</td>\n",
       "      <td>2</td>\n",
       "      <td>8</td>\n",
       "      <td>0</td>\n",
       "    </tr>\n",
       "    <tr>\n",
       "      <td>...</td>\n",
       "      <td>...</td>\n",
       "      <td>...</td>\n",
       "      <td>...</td>\n",
       "      <td>...</td>\n",
       "      <td>...</td>\n",
       "      <td>...</td>\n",
       "      <td>...</td>\n",
       "      <td>...</td>\n",
       "      <td>...</td>\n",
       "      <td>...</td>\n",
       "      <td>...</td>\n",
       "    </tr>\n",
       "    <tr>\n",
       "      <td>4763</td>\n",
       "      <td>2020-01-15</td>\n",
       "      <td>59087.67</td>\n",
       "      <td>59162.08</td>\n",
       "      <td>58616.41</td>\n",
       "      <td>58671.25</td>\n",
       "      <td>38504406.0</td>\n",
       "      <td>58889.245</td>\n",
       "      <td>1</td>\n",
       "      <td>3</td>\n",
       "      <td>15</td>\n",
       "      <td>2</td>\n",
       "    </tr>\n",
       "    <tr>\n",
       "      <td>4764</td>\n",
       "      <td>2020-01-16</td>\n",
       "      <td>58824.50</td>\n",
       "      <td>58998.65</td>\n",
       "      <td>58718.97</td>\n",
       "      <td>58962.37</td>\n",
       "      <td>43852653.0</td>\n",
       "      <td>58858.810</td>\n",
       "      <td>1</td>\n",
       "      <td>3</td>\n",
       "      <td>16</td>\n",
       "      <td>3</td>\n",
       "    </tr>\n",
       "    <tr>\n",
       "      <td>4765</td>\n",
       "      <td>2020-01-17</td>\n",
       "      <td>58893.50</td>\n",
       "      <td>59130.30</td>\n",
       "      <td>58543.53</td>\n",
       "      <td>59039.84</td>\n",
       "      <td>34074400.0</td>\n",
       "      <td>58836.915</td>\n",
       "      <td>1</td>\n",
       "      <td>3</td>\n",
       "      <td>17</td>\n",
       "      <td>4</td>\n",
       "    </tr>\n",
       "    <tr>\n",
       "      <td>4766</td>\n",
       "      <td>2020-01-20</td>\n",
       "      <td>59082.18</td>\n",
       "      <td>59214.29</td>\n",
       "      <td>59014.56</td>\n",
       "      <td>59110.06</td>\n",
       "      <td>27949866.0</td>\n",
       "      <td>59114.425</td>\n",
       "      <td>1</td>\n",
       "      <td>4</td>\n",
       "      <td>20</td>\n",
       "      <td>0</td>\n",
       "    </tr>\n",
       "    <tr>\n",
       "      <td>4767</td>\n",
       "      <td>2020-01-21</td>\n",
       "      <td>59019.30</td>\n",
       "      <td>59019.39</td>\n",
       "      <td>58572.59</td>\n",
       "      <td>58616.01</td>\n",
       "      <td>33146421.0</td>\n",
       "      <td>58795.990</td>\n",
       "      <td>1</td>\n",
       "      <td>4</td>\n",
       "      <td>21</td>\n",
       "      <td>1</td>\n",
       "    </tr>\n",
       "  </tbody>\n",
       "</table>\n",
       "<p>4768 rows × 11 columns</p>\n",
       "</div>"
      ],
      "text/plain": [
       "           Date      Open      High       Low     Close      Volume  \\\n",
       "0    2001-01-02  17567.90  17710.20  17486.50  17672.80   4935736.0   \n",
       "1    2001-01-03  17520.70  17676.40  17319.70  17506.10   8818742.0   \n",
       "2    2001-01-04  17673.00  17959.20  17673.00  17875.90   8597278.0   \n",
       "3    2001-01-05  17862.30  17871.40  17508.50  17509.30   8211943.0   \n",
       "4    2001-01-08  17276.70  17276.70  17067.80  17119.30   7374110.0   \n",
       "...         ...       ...       ...       ...       ...         ...   \n",
       "4763 2020-01-15  59087.67  59162.08  58616.41  58671.25  38504406.0   \n",
       "4764 2020-01-16  58824.50  58998.65  58718.97  58962.37  43852653.0   \n",
       "4765 2020-01-17  58893.50  59130.30  58543.53  59039.84  34074400.0   \n",
       "4766 2020-01-20  59082.18  59214.29  59014.56  59110.06  27949866.0   \n",
       "4767 2020-01-21  59019.30  59019.39  58572.59  58616.01  33146421.0   \n",
       "\n",
       "           VWAP  month  week  day  day_of_week  \n",
       "0     17598.350      1     1    2            1  \n",
       "1     17498.050      1     1    3            2  \n",
       "2     17816.100      1     1    4            3  \n",
       "3     17689.950      1     1    5            4  \n",
       "4     17172.250      1     2    8            0  \n",
       "...         ...    ...   ...  ...          ...  \n",
       "4763  58889.245      1     3   15            2  \n",
       "4764  58858.810      1     3   16            3  \n",
       "4765  58836.915      1     3   17            4  \n",
       "4766  59114.425      1     4   20            0  \n",
       "4767  58795.990      1     4   21            1  \n",
       "\n",
       "[4768 rows x 11 columns]"
      ]
     },
     "execution_count": 720,
     "metadata": {},
     "output_type": "execute_result"
    }
   ],
   "source": [
    "#Creating variables to use in lagging dataset\n",
    "data.reset_index(drop=True, inplace=True)\n",
    "lag_features = [\"High\", \"Low\", \"Volume\"]\n",
    "window1 = 3\n",
    "window2 = 7\n",
    "window3 = 30\n",
    "data"
   ]
  },
  {
   "cell_type": "code",
   "execution_count": 721,
   "metadata": {},
   "outputs": [],
   "source": [
    "#Wrapping lag_features into rolled data. Calculating mean and standard deviation and shifting it over one day.\n",
    "data_rolled_3d = data[lag_features].rolling(window=window1, min_periods=0)\n",
    "data_rolled_7d = data[lag_features].rolling(window=window2, min_periods=0)\n",
    "data_rolled_30d = data[lag_features].rolling(window=window3, min_periods=0)\n",
    "\n",
    "data_mean_3d = data_rolled_3d.mean().shift(1).reset_index().astype(np.float32)\n",
    "data_mean_7d = data_rolled_7d.mean().shift(1).reset_index().astype(np.float32)\n",
    "data_mean_30d = data_rolled_30d.mean().shift(1).reset_index().astype(np.float32)\n",
    "\n",
    "data_std_3d = data_rolled_3d.std().shift(1).reset_index().astype(np.float32)\n",
    "data_std_7d = data_rolled_7d.std().shift(1).reset_index().astype(np.float32)\n",
    "data_std_30d = data_rolled_30d.std().shift(1).reset_index().astype(np.float32)"
   ]
  },
  {
   "cell_type": "code",
   "execution_count": 722,
   "metadata": {},
   "outputs": [],
   "source": [
    "#Creating a loop to define exogenous features:\n",
    "for feature in lag_features:\n",
    "    data[f\"{feature}_mean_lag{window1}\"] = data_mean_3d[feature]\n",
    "    data[f\"{feature}_mean_lag{window2}\"] = data_mean_7d[feature]\n",
    "    data[f\"{feature}_mean_lag{window3}\"] = data_mean_30d[feature]\n",
    "    \n",
    "    data[f\"{feature}_std_lag{window1}\"] = data_std_3d[feature]\n",
    "    data[f\"{feature}_std_lag{window2}\"] = data_std_7d[feature]\n",
    "    data[f\"{feature}_std_lag{window3}\"] = data_std_30d[feature]\n",
    "\n",
    "data.fillna(data.mean(), inplace=True)\n",
    "\n",
    "data.set_index(\"Date\", drop=False, inplace=True)\n"
   ]
  },
  {
   "cell_type": "code",
   "execution_count": 723,
   "metadata": {},
   "outputs": [],
   "source": [
    "#Splitting the data into train and test dataframe\n",
    "data_train = data[data.Date < \"2019\"]\n",
    "data_test = data[data.Date >= \"2019\"]"
   ]
  },
  {
   "cell_type": "code",
   "execution_count": 724,
   "metadata": {},
   "outputs": [],
   "source": [
    "#\n",
    "exogenous_features =[\"Volume_mean_lag3\", \"Volume_mean_lag7\",\"Volume_mean_lag30\", \"Volume_std_lag3\", \"Volume_std_lag7\", \"Volume_std_lag30\",\n",
    "                     \"High_mean_lag3\", \"High_mean_lag7\", \"High_mean_lag30\", \"High_std_lag3\", \"High_std_lag7\", \"High_std_lag30\",\n",
    "                     \"Low_mean_lag3\", \"Low_mean_lag7\", \"Low_mean_lag30\", \"Low_std_lag3\", \"Low_std_lag7\", \"Low_std_lag30\",\n",
    "                     \"month\", \"week\", \"day\", \"day_of_week\"]"
   ]
  },
  {
   "cell_type": "code",
   "execution_count": 725,
   "metadata": {},
   "outputs": [
    {
     "name": "stdout",
     "output_type": "stream",
     "text": [
      "Fit ARIMA: order=(2, 0, 2) seasonal_order=(0, 0, 0, 1); AIC=70539.623, BIC=70719.198, Fit time=38.691 seconds\n",
      "Fit ARIMA: order=(0, 0, 0) seasonal_order=(0, 0, 0, 1); AIC=71420.761, BIC=71574.682, Fit time=7.801 seconds\n",
      "Fit ARIMA: order=(1, 0, 0) seasonal_order=(0, 0, 0, 1); AIC=70678.628, BIC=70838.963, Fit time=20.265 seconds\n",
      "Fit ARIMA: order=(0, 0, 1) seasonal_order=(0, 0, 0, 1); AIC=71170.776, BIC=71331.111, Fit time=25.260 seconds\n",
      "Fit ARIMA: order=(1, 0, 2) seasonal_order=(0, 0, 0, 1); AIC=70510.088, BIC=70683.250, Fit time=27.890 seconds\n",
      "Fit ARIMA: order=(1, 0, 1) seasonal_order=(0, 0, 0, 1); AIC=70660.817, BIC=70827.565, Fit time=28.921 seconds\n",
      "Fit ARIMA: order=(1, 0, 3) seasonal_order=(0, 0, 0, 1); AIC=70537.958, BIC=70717.533, Fit time=29.297 seconds\n",
      "Fit ARIMA: order=(2, 0, 3) seasonal_order=(0, 0, 0, 1); AIC=70534.423, BIC=70720.411, Fit time=30.072 seconds\n",
      "Fit ARIMA: order=(0, 0, 2) seasonal_order=(0, 0, 0, 1); AIC=70498.736, BIC=70665.484, Fit time=33.180 seconds\n",
      "Fit ARIMA: order=(0, 0, 3) seasonal_order=(0, 0, 0, 1); AIC=70521.479, BIC=70694.640, Fit time=41.957 seconds\n",
      "Total fit time: 283.355 seconds\n"
     ]
    },
    {
     "data": {
      "text/plain": [
       "ARIMA(callback=None, disp=0, maxiter=None, method=None, order=(0, 0, 2),\n",
       "      out_of_sample_size=0, scoring='mse', scoring_args={},\n",
       "      seasonal_order=(0, 0, 0, 1), solver='lbfgs', start_params=None,\n",
       "      suppress_warnings=True, transparams=True, trend=None,\n",
       "      with_intercept=True)"
      ]
     },
     "execution_count": 725,
     "metadata": {},
     "output_type": "execute_result"
    }
   ],
   "source": [
    "#Using python library pmdarima to find best fitting ARIMA model to the dataframe with the lowest AIC\n",
    "model = auto_arima(data_train.VWAP, exogenous=data_train[exogenous_features], trace=True, error_action=\"ignore\", suppress_warnings=True)\n",
    "model.fit(data_train.VWAP, exogenous=data_train[exogenous_features])\n"
   ]
  },
  {
   "cell_type": "code",
   "execution_count": 726,
   "metadata": {},
   "outputs": [
    {
     "name": "stderr",
     "output_type": "stream",
     "text": [
      "C:\\Users\\Admin\\Anaconda3\\lib\\site-packages\\ipykernel_launcher.py:3: SettingWithCopyWarning: \n",
      "A value is trying to be set on a copy of a slice from a DataFrame.\n",
      "Try using .loc[row_indexer,col_indexer] = value instead\n",
      "\n",
      "See the caveats in the documentation: http://pandas.pydata.org/pandas-docs/stable/user_guide/indexing.html#returning-a-view-versus-a-copy\n",
      "  This is separate from the ipykernel package so we can avoid doing imports until\n"
     ]
    }
   ],
   "source": [
    "#Checking the fit of the model on train dataframe\n",
    "forecast = model.predict(n_periods=len(data_valid), exogenous=data_test[exogenous_features])\n",
    "data_test[\"Forecast_ARIMAX\"] = forecast"
   ]
  },
  {
   "cell_type": "code",
   "execution_count": 727,
   "metadata": {},
   "outputs": [
    {
     "data": {
      "text/plain": [
       "<matplotlib.axes._subplots.AxesSubplot at 0x1b8386f4708>"
      ]
     },
     "execution_count": 727,
     "metadata": {},
     "output_type": "execute_result"
    },
    {
     "data": {
      "image/png": "[encoded data removed]",
      "text/plain": [
       "<Figure size 1008x504 with 1 Axes>"
      ]
     },
     "metadata": {
      "needs_background": "light"
     },
     "output_type": "display_data"
    }
   ],
   "source": [
    "#Creating the plot VWAP vs Forecast:\n",
    "data_test[[\"VWAP\", \"Forecast_ARIMAX\"]].plot(figsize=(14, 7))"
   ]
  },
  {
   "cell_type": "code",
   "execution_count": 728,
   "metadata": {},
   "outputs": [
    {
     "name": "stdout",
     "output_type": "stream",
     "text": [
      "RMSE of Auto ARIMAX: 432.1856176356221\n"
     ]
    }
   ],
   "source": [
    "#Root mean square error:\n",
    "print(\"RMSE of Auto ARIMAX:\", np.sqrt(mean_squared_error(data_test.VWAP, data_test.Forecast_ARIMAX)))"
   ]
  },
  {
   "cell_type": "code",
   "execution_count": 729,
   "metadata": {},
   "outputs": [
    {
     "name": "stdout",
     "output_type": "stream",
     "text": [
      "MAE of Auto ARIMAX: 347.3987644433007\n"
     ]
    }
   ],
   "source": [
    "#Mean absolute error:\n",
    "print(\"MAE of Auto ARIMAX:\", mean_absolute_error(data_test.VWAP, data_test.Forecast_ARIMAX))"
   ]
  },
  {
   "cell_type": "code",
   "execution_count": null,
   "metadata": {},
   "outputs": [],
   "source": []
  },
  {
   "cell_type": "code",
   "execution_count": null,
   "metadata": {},
   "outputs": [],
   "source": []
  },
  {
   "cell_type": "code",
   "execution_count": null,
   "metadata": {},
   "outputs": [],
   "source": []
  }
 ],
 "metadata": {
  "kernelspec": {
   "display_name": "Python 3",
   "language": "python",
   "name": "python3"
  },
  "language_info": {
   "codemirror_mode": {
    "name": "ipython",
    "version": 3
   },
   "file_extension": ".py",
   "mimetype": "text/x-python",
   "name": "python",
   "nbconvert_exporter": "python",
   "pygments_lexer": "ipython3",
   "version": "3.7.4"
  }
 },
 "nbformat": 4,
 "nbformat_minor": 2
}
